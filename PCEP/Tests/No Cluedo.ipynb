{
 "cells": [
  {
   "cell_type": "markdown",
   "metadata": {},
   "source": [
    "What is the output of the following snippet?\n",
    "\n",
    "    a) [1, 1, 1, 1, 2, 3]\n",
    "    b) [3, 2, 1, 1, 2, 3]\n",
    "    c) [1, 2, 3, 3, 2, 1]\n",
    "    d) [1, 2, 3, 1, 2, 3]"
   ]
  },
  {
   "cell_type": "code",
   "execution_count": null,
   "metadata": {},
   "outputs": [],
   "source": [
    "my_list = [1, 2, 3]\n",
    "for v in range(len(my_list)):\n",
    "    print(my_list[v])\n",
    "    my_list.insert(1, my_list[v])\n",
    "print(my_list)    # why is my_list[v] == 1 and not 1, 2, 3?"
   ]
  },
  {
   "cell_type": "markdown",
   "metadata": {},
   "source": [
    "What is the output of the following snippet?\n",
    "\n",
    "    a) -1 \n",
    "    b) 1\n",
    "    c) -2\n",
    "    d) 3"
   ]
  },
  {
   "cell_type": "code",
   "execution_count": null,
   "metadata": {},
   "outputs": [],
   "source": [
    "my_list = [3, 1, -2]\n",
    "print(my_list[my_list[-1]])    # why does this index point to the middle of the list? where does the index point to in larger lists?"
   ]
  },
  {
   "cell_type": "markdown",
   "metadata": {},
   "source": [
    "What is the output of the following snippet?\n",
    "\n",
    "    a) 7\n",
    "    b) 02\n",
    "    c) 6\n",
    "    d) 4"
   ]
  },
  {
   "cell_type": "code",
   "execution_count": null,
   "metadata": {},
   "outputs": [],
   "source": [
    "t = [[3 - i for i in range(3)] for j in range(3)]\n",
    "s = 0\n",
    "for i in range(3):\n",
    "    s += t[i][i]    # where does the index point to?\n",
    "print(s)"
   ]
  },
  {
   "cell_type": "markdown",
   "metadata": {},
   "source": [
    "What is the output of the following snippet?\n",
    "\n",
    "    a) the code is erroneus\n",
    "    b) 1\n",
    "    c) 6\n",
    "    d) 3"
   ]
  },
  {
   "cell_type": "code",
   "execution_count": 52,
   "metadata": {},
   "outputs": [
    {
     "name": "stdout",
     "output_type": "stream",
     "text": [
      "6\n"
     ]
    }
   ],
   "source": [
    "def f(x):\n",
    "    if x == 0:\n",
    "        return 0\n",
    "    return x + f(x - 1)    # this recusrsion thing is messing with my head. what ever I do manually, I don't get the result\n",
    "\n",
    "print(f(3))"
   ]
  },
  {
   "cell_type": "code",
   "execution_count": 60,
   "metadata": {},
   "outputs": [
    {
     "name": "stdout",
     "output_type": "stream",
     "text": [
      "#\n",
      "#\n",
      "#\n",
      "#\n",
      "#\n",
      "#\n"
     ]
    }
   ],
   "source": [
    "lst = [[x for x in range(3)] for y in range(3)]\n",
    "\n",
    "\n",
    "for r in range(3):\n",
    "    for c in range(3):\n",
    "        if lst[r][c] % 2 == 0:    # where does the index point to?\n",
    "            print('#')"
   ]
  }
 ],
 "metadata": {
  "kernelspec": {
   "display_name": "Jupy",
   "language": "python",
   "name": "jupy"
  },
  "language_info": {
   "codemirror_mode": {
    "name": "ipython",
    "version": 3
   },
   "file_extension": ".py",
   "mimetype": "text/x-python",
   "name": "python",
   "nbconvert_exporter": "python",
   "pygments_lexer": "ipython3",
   "version": "3.8.5"
  }
 },
 "nbformat": 4,
 "nbformat_minor": 4
}
