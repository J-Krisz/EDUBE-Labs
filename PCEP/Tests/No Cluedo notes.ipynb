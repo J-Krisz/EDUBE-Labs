{
 "cells": [
  {
   "cell_type": "markdown",
   "metadata": {},
   "source": [
    "What is the output of the following snippet?\n",
    "\n",
    "    a) [1, 1, 1, 1, 2, 3]\n",
    "    b) [3, 2, 1, 1, 2, 3]\n",
    "    c) [1, 2, 3, 3, 2, 1]\n",
    "    d) [1, 2, 3, 1, 2, 3]"
   ]
  },
  {
   "cell_type": "code",
   "execution_count": null,
   "metadata": {},
   "outputs": [],
   "source": [
    "my_list = [1, 2, 3]\n",
    "for v in range(len(my_list)):\n",
    "    print(my_list[v])\n",
    "    my_list.insert(1, my_list[v])\n",
    "print(my_list)    # why is my_list[v] == 1 and not 1, 2, 3?\n",
    "\n",
    "# Following the code step by step: \n",
    "# = for v in range(len(my_list)).\n",
    "# = for v in range(3)\n",
    "# = for v in [0, 1, 2]\n",
    "\n",
    "# Before we start, my_list = [1, 2, 3], my_list[0] = 1, my_list[1] = 2, my_list[2] = 3\n",
    "\n",
    "# first step, v = 0, my_list[0] = 1\n",
    "# my_list.insert(a, b) inserts the number a into position b in a list, so:\n",
    "# my_list.insert(1, my_list[v]) = my_list.insert(1, 1) which inserts the number 1 into position 1,\n",
    "# moving the other elements (2 and 3) to the right by 1\n",
    "# which gives my_list = [1, 1, 2, 3]\n",
    "\n",
    "# second step, v = 1, my_list = [1, 1, 2, 3], my_list[1] = 1\n",
    "# my_list.insert(1, 1) inserts 1 into position 1, moving the other elements (1, 2, 3) along by 1\n",
    "# which gives my_list = [1, 1, 1, 2, 3]\n",
    "\n",
    "# third step, v = 2, my_list = [1, 1, 1, 2, 3], my_list[2] = 1\n",
    "# my_list.insert(1, 1) gives my_list = [1, 1, 1, 1, 2, 3]"
   ]
  },
  {
   "cell_type": "markdown",
   "metadata": {},
   "source": [
    "What is the output of the following snippet?\n",
    "\n",
    "    a) -1 \n",
    "    b) 1\n",
    "    c) -2\n",
    "    d) 3"
   ]
  },
  {
   "cell_type": "code",
   "execution_count": null,
   "metadata": {},
   "outputs": [],
   "source": [
    "my_list = [3, 1, -2]\n",
    "print(my_list[my_list[-1]])    # why does this index point to the middle of the list? where does the index point to in larger lists?\n",
    "\n",
    "# in a list, the first element is in position 0\n",
    "# the last element will be in position -1\n",
    "# the second from last will be in position -2\n",
    "# the third from last will be in position -3 etc...\n",
    "\n",
    "# so here, my_list[-1] is the last element in the list, which is -2\n",
    "# and so my_list[my_list[-1]] = my_list[-2]\n",
    "# which is the second from last element in the list, which is 1"
   ]
  },
  {
   "cell_type": "markdown",
   "metadata": {},
   "source": [
    "What is the output of the following snippet?\n",
    "\n",
    "    a) 7\n",
    "    b) 02\n",
    "    c) 6\n",
    "    d) 4"
   ]
  },
  {
   "cell_type": "code",
   "execution_count": 3,
   "metadata": {},
   "outputs": [
    {
     "name": "stdout",
     "output_type": "stream",
     "text": [
      "[[3, 2, 1], [3, 2, 1], [3, 2, 1]]\n",
      "6\n"
     ]
    }
   ],
   "source": [
    "t = [[3 - i for i in range(3)] for j in range(3)]\n",
    "print(t)\n",
    "s = 0\n",
    "for i in range(3):\n",
    "    s += t[i][i]    # where does the index point to?\n",
    "print(s)\n",
    "\n",
    "# the list within a list, [3 - i for i in range(3)] will be the same no matter what j is, as j isn't used to define it\n",
    "# range(3) is the list [0, 1, 2],\n",
    "# so [3-i for i in range(3)] = [3, 2, 1]\n",
    "# so t = [[3 - i for i in range(3)] for j in range(3)] = [[3, 2, 1], [3, 2, 1], [3, 2, 1]]\n",
    "\n",
    "# t[a][b] will return the bth element of the ath element of the list t.\n",
    "# for example, t[1][0] =[3, 2, 1][0] = 0\n",
    "\n",
    "# step by step, s = 0, range(3) = [0, 1, 2]\n",
    "# i = 0\n",
    "# s = 0 + t[0][0]\n",
    "# = 0 +[3, 2, 1][0]\n",
    "# = 0 + 3 = 3\n",
    "\n",
    "# next iteration\n",
    "# i = 1, s = 3\n",
    "# s = 3 + t[1][1]\n",
    "# = 3 + [3, 2, 1][1]\n",
    "# = 3 + 2 = 5\n",
    "\n",
    "# final iteration\n",
    "# i = 2\n",
    "# s = 5 + t[2][2]\n",
    "# = 5 + [3, 2, 1][2]\n",
    "# = 5 + 1 = 6"
   ]
  },
  {
   "cell_type": "markdown",
   "metadata": {},
   "source": [
    "What is the output of the following snippet?\n",
    "\n",
    "    a) the code is erroneus\n",
    "    b) 1\n",
    "    c) 6\n",
    "    d) 3"
   ]
  },
  {
   "cell_type": "code",
   "execution_count": null,
   "metadata": {},
   "outputs": [],
   "source": [
    "def f(x):\n",
    "    if x == 0:\n",
    "        return 0\n",
    "    return x + f(x - 1)    # this recusrsion thing is messing with my head. what ever I do manually, I don't get the result\n",
    "\n",
    "print(f(3))\n",
    "\n",
    "# f(0) = 0, as defined in the function\n",
    "\n",
    "# f(1) = 1 + f(1 - 1)\n",
    "# = 1 + f(0)\n",
    "# = 1 + 0 = 1\n",
    "# so f(1) = 1\n",
    "\n",
    "# f(2) = 2 + f(2 - 1)\n",
    "# = 2 + f(1). Now we know f(1) = 1, so:\n",
    "# f(2) = 2 + 1 = 3\n",
    "\n",
    "# Finally, f(3) = 3 + f(3 - 1)\n",
    "# = 3 + f(2), and we now know f(2) = 3, so\n",
    "# = 3 + 3\n",
    "# = 6\n",
    "\n",
    "# So f(3) = 6"
   ]
  },
  {
   "cell_type": "code",
   "execution_count": 1,
   "metadata": {},
   "outputs": [
    {
     "name": "stdout",
     "output_type": "stream",
     "text": [
      "#\n",
      "#\n",
      "#\n",
      "#\n",
      "#\n",
      "#\n"
     ]
    }
   ],
   "source": [
    "lst = [[x for x in range(3)] for y in range(3)]\n",
    "\n",
    "\n",
    "for r in range(3):\n",
    "    for c in range(3):\n",
    "        if lst[r][c] % 2 == 0:    # where does the index point to?\n",
    "            print('#')\n",
    "            \n",
    "# lst = [[0, 1, 2], [0, 1, 2], [0, 1, 2]], similar to earlier problem   \n",
    "# so lst[0] is the element in position 0 of lst, which is [0, 1, 2]\n",
    "# similarly, lst[1] = [0, 1, 2]\n",
    "# and lst[2] = [0, 1, 2]\n",
    "\n",
    "# so, for example, lst[2][1] = [0, 1, 2][1] = 1\n",
    "# and lst[1][2] = [0, 1, 2][2] = 2\n",
    "\n",
    "# Here, the line lst[r][c] % 2 == 0 translates to:\n",
    "# look at the cth element of the rth element of lst. If the remainder is 0 when it's divided by 2 (ie, if it's even), then print('#')"
   ]
  },
  {
   "cell_type": "code",
   "execution_count": null,
   "metadata": {},
   "outputs": [],
   "source": []
  }
 ],
 "metadata": {
  "kernelspec": {
   "display_name": "Python 3",
   "language": "python",
   "name": "python3"
  },
  "language_info": {
   "codemirror_mode": {
    "name": "ipython",
    "version": 3
   },
   "file_extension": ".py",
   "mimetype": "text/x-python",
   "name": "python",
   "nbconvert_exporter": "python",
   "pygments_lexer": "ipython3",
   "version": "3.8.5"
  }
 },
 "nbformat": 4,
 "nbformat_minor": 4
}
