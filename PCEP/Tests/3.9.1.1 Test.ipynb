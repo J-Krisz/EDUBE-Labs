{
 "cells": [
  {
   "cell_type": "code",
   "execution_count": 2,
   "metadata": {},
   "outputs": [
    {
     "data": {
      "text/plain": [
       "True"
      ]
     },
     "execution_count": 2,
     "metadata": {},
     "output_type": "execute_result"
    }
   ],
   "source": [
    "# The value eventually assinged to x is equal to?\n",
    "\n",
    "x = 1\n",
    "x = x == x    # x is equal to x, statement is True!\n",
    "x\n",
    "\n",
    "# Correct"
   ]
  },
  {
   "cell_type": "code",
   "execution_count": 9,
   "metadata": {},
   "outputs": [
    {
     "name": "stdout",
     "output_type": "stream",
     "text": [
      "main #\n",
      "else #\n"
     ]
    }
   ],
   "source": [
    "# How many # will the following snippet send to the console?\n",
    "\n",
    "for i in range(1):\n",
    "    print(\"main\", \"#\")    # the first part of the loop will print 1#  \n",
    "else:\n",
    "    print(\"else\", \"#\")    # and else clause gets executed once\n",
    "    \n",
    "# Correct"
   ]
  },
  {
   "cell_type": "code",
   "execution_count": 2,
   "metadata": {},
   "outputs": [
    {
     "name": "stdout",
     "output_type": "stream",
     "text": [
      "1\n",
      "1\n",
      "1\n",
      "[1, 1, 1, 1, 2, 3]\n"
     ]
    }
   ],
   "source": [
    "# What is the output of the following snippet?\n",
    "\n",
    "my_list = [1, 2, 3]\n",
    "for v in range(len(my_list)):\n",
    "    print(my_list[v]) # Test code\n",
    "    my_list.insert(1, my_list[v])\n",
    "print(my_list)\n",
    "\n",
    "# INCORRECT"
   ]
  },
  {
   "cell_type": "code",
   "execution_count": 17,
   "metadata": {},
   "outputs": [
    {
     "name": "stdout",
     "output_type": "stream",
     "text": [
      "\n",
      "[[3, 2, 1], [3, 2, 1], [3, 2, 1]]\n",
      "\n",
      "0\n",
      "1\n",
      "2\n",
      "\n",
      "6\n"
     ]
    }
   ],
   "source": [
    "# What is the output of the following snippet\n",
    "\n",
    "t = [[3-i for i in range(3)] for j in range(3)]\n",
    "s = 0\n",
    "\n",
    "print()\n",
    "print(t) # test\n",
    "print()\n",
    "\n",
    "for i in range(3):\n",
    "    print(i)\n",
    "    s += t[i][i]\n",
    "\n",
    "print()\n",
    "print(s)\n",
    "\n",
    "# Correct (don't understand!!!)"
   ]
  },
  {
   "cell_type": "code",
   "execution_count": 18,
   "metadata": {},
   "outputs": [
    {
     "ename": "IndexError",
     "evalue": "list index out of range",
     "output_type": "error",
     "traceback": [
      "\u001b[0;31m---------------------------------------------------------------------------\u001b[0m",
      "\u001b[0;31mIndexError\u001b[0m                                Traceback (most recent call last)",
      "\u001b[0;32m<ipython-input-18-1905132a7f08>\u001b[0m in \u001b[0;36m<module>\u001b[0;34m\u001b[0m\n\u001b[1;32m      2\u001b[0m \u001b[0;34m\u001b[0m\u001b[0m\n\u001b[1;32m      3\u001b[0m \u001b[0mmy_list\u001b[0m \u001b[0;34m=\u001b[0m \u001b[0;34m[\u001b[0m\u001b[0;34m[\u001b[0m\u001b[0;36m0\u001b[0m\u001b[0;34m,\u001b[0m \u001b[0;36m1\u001b[0m\u001b[0;34m,\u001b[0m \u001b[0;36m2\u001b[0m\u001b[0;34m,\u001b[0m \u001b[0;36m3\u001b[0m\u001b[0;34m]\u001b[0m \u001b[0;32mfor\u001b[0m \u001b[0mi\u001b[0m \u001b[0;32min\u001b[0m \u001b[0mrange\u001b[0m\u001b[0;34m(\u001b[0m\u001b[0;36m2\u001b[0m\u001b[0;34m)\u001b[0m\u001b[0;34m]\u001b[0m\u001b[0;34m\u001b[0m\u001b[0;34m\u001b[0m\u001b[0m\n\u001b[0;32m----> 4\u001b[0;31m \u001b[0mprint\u001b[0m\u001b[0;34m(\u001b[0m\u001b[0mmy_list\u001b[0m\u001b[0;34m[\u001b[0m\u001b[0;36m2\u001b[0m\u001b[0;34m]\u001b[0m\u001b[0;34m[\u001b[0m\u001b[0;36m0\u001b[0m\u001b[0;34m]\u001b[0m\u001b[0;34m)\u001b[0m\u001b[0;34m\u001b[0m\u001b[0;34m\u001b[0m\u001b[0m\n\u001b[0m",
      "\u001b[0;31mIndexError\u001b[0m: list index out of range"
     ]
    }
   ],
   "source": [
    "# What is the output of the follwing snippet?\n",
    "\n",
    "my_list = [[0, 1, 2, 3] for i in range(2)]\n",
    "print(my_list[2][0])\n",
    "\n",
    "# INCORRECT\n",
    "# Output produces runtime error\n",
    "# First element of comprehension is an expression"
   ]
  },
  {
   "cell_type": "code",
   "execution_count": 20,
   "metadata": {},
   "outputs": [
    {
     "name": "stdout",
     "output_type": "stream",
     "text": [
      "nums \n",
      "[1, 3]\n",
      "vals \n",
      "[1, 3]\n"
     ]
    }
   ],
   "source": [
    "# Take a look at the snippets and choose True statements (select two answers)\n",
    "\n",
    "nums = [1, 2, 3]\n",
    "vals = nums\n",
    "del vals[1:2]\n",
    "print(\"nums \", nums, \"vals \", vals, sep='\\n')\n",
    "\n",
    "# nums and vals are of the same lenght\n",
    "# nums and vals refer to the same list\n",
    "# Correct"
   ]
  },
  {
   "cell_type": "code",
   "execution_count": 21,
   "metadata": {},
   "outputs": [
    {
     "name": "stdout",
     "output_type": "stream",
     "text": [
      "#\n",
      "#\n",
      "#\n"
     ]
    }
   ],
   "source": [
    "# How manyhshes # will the following snippet send ot the console?\n",
    "\n",
    "var = 0\n",
    "while var < 6:\n",
    "    var += 1\n",
    "    if var % 2 ==0:\n",
    "        continue\n",
    "    print(\"#\")\n",
    "    \n",
    "# Correct"
   ]
  },
  {
   "cell_type": "code",
   "execution_count": 22,
   "metadata": {},
   "outputs": [
    {
     "name": "stdout",
     "output_type": "stream",
     "text": [
      "2\n"
     ]
    }
   ],
   "source": [
    "# What is the output of the following snippet?\n",
    "a = 1\n",
    "b = 0\n",
    "c =  a & b\n",
    "d = a | b\n",
    "e = a ^ b\n",
    "print(c + d + e)\n",
    "\n",
    "# Correct"
   ]
  },
  {
   "cell_type": "code",
   "execution_count": 25,
   "metadata": {},
   "outputs": [
    {
     "data": {
      "text/plain": [
       "True"
      ]
     },
     "execution_count": 25,
     "metadata": {},
     "output_type": "execute_result"
    }
   ],
   "source": [
    "# What value will be assigned to the x variable?\n",
    "\n",
    "z = 10\n",
    "y = 0\n",
    "x = y < z and z > y or y > z and z < y\n",
    "x\n",
    "\n",
    "# Correct"
   ]
  },
  {
   "cell_type": "code",
   "execution_count": 4,
   "metadata": {},
   "outputs": [
    {
     "name": "stdout",
     "output_type": "stream",
     "text": [
      "2 *\n",
      "4 *\n"
     ]
    }
   ],
   "source": [
    "# How many stars will the following snippet send to the console?\n",
    "\n",
    "i = 0\n",
    "while i <= 3:\n",
    "    i += 2\n",
    "    print(i, \"*\")\n",
    "    \n",
    "# Correct"
   ]
  },
  {
   "cell_type": "code",
   "execution_count": 28,
   "metadata": {},
   "outputs": [
    {
     "name": "stdout",
     "output_type": "stream",
     "text": [
      "[1, 2, 3]\n",
      "[]\n"
     ]
    }
   ],
   "source": [
    "# Which of the following sentences are True? (Selec two answers)\n",
    "\n",
    "nums = [1, 2, 3]\n",
    "vals = nums[-1:-2]\n",
    "print(nums, vals, sep='\\n')\n",
    "\n",
    "# Correct"
   ]
  },
  {
   "cell_type": "code",
   "execution_count": 30,
   "metadata": {},
   "outputs": [
    {
     "name": "stdout",
     "output_type": "stream",
     "text": [
      "*\n"
     ]
    }
   ],
   "source": [
    "# How many stars * will the following snippet send to the console?\n",
    "\n",
    "i = 0 \n",
    "while i <= 5:\n",
    "    i += 1\n",
    "    if i % 2 == 0:\n",
    "        break\n",
    "    print(\"*\")\n",
    "    \n",
    "# INCORRECT\n",
    "# My answer was two based on the assumption that the iteration starts from 0"
   ]
  },
  {
   "cell_type": "code",
   "execution_count": 34,
   "metadata": {},
   "outputs": [
    {
     "name": "stdout",
     "output_type": "stream",
     "text": [
      "1\n"
     ]
    }
   ],
   "source": [
    "# What si the output of the following snippet?\n",
    "\n",
    "my_list = [3, 1, -2]\n",
    "print(my_list[my_list[-1]])\n",
    "\n",
    "# INCORRECT\n",
    "# My answer was -2"
   ]
  },
  {
   "cell_type": "code",
   "execution_count": 35,
   "metadata": {},
   "outputs": [
    {
     "name": "stdout",
     "output_type": "stream",
     "text": [
      "#\n",
      "#\n",
      "#\n",
      "#\n"
     ]
    }
   ],
   "source": [
    "# How many hashes # will the following snippet send to the console?\n",
    "\n",
    "var = 1\n",
    "while var < 10:\n",
    "    print(\"#\")\n",
    "    var = var << 1\n",
    "    \n",
    "# INCORRECT\n",
    "# My answer was 8"
   ]
  },
  {
   "cell_type": "code",
   "execution_count": 36,
   "metadata": {},
   "outputs": [
    {
     "name": "stdout",
     "output_type": "stream",
     "text": [
      "[3, 2, 1]\n"
     ]
    }
   ],
   "source": [
    "# What is the otput of the following snippet?\n",
    "\n",
    "my_list_1 = [1, 2, 3]\n",
    "my_list_2 = []\n",
    "for v in my_list_1:\n",
    "    my_list_2.insert(0, v)\n",
    "print(my_list_2)\n",
    "\n",
    "# INCORRECT\n",
    "# My answer was [1, 2, 3]"
   ]
  },
  {
   "cell_type": "code",
   "execution_count": 37,
   "metadata": {},
   "outputs": [
    {
     "data": {
      "text/plain": [
       "[2, 1, 0]"
      ]
     },
     "execution_count": 37,
     "metadata": {},
     "output_type": "execute_result"
    }
   ],
   "source": [
    "# The second assignement:\n",
    "\n",
    "vals = [0, 1, 2]\n",
    "vals[0], vals[2] = vals[2], vals[0]\n",
    "vals\n",
    "\n",
    "# Reverses the list\n",
    "# Correct"
   ]
  },
  {
   "cell_type": "code",
   "execution_count": 41,
   "metadata": {},
   "outputs": [
    {
     "data": {
      "text/plain": [
       "4"
      ]
     },
     "execution_count": 41,
     "metadata": {},
     "output_type": "execute_result"
    }
   ],
   "source": [
    "# After execution of the following snippet, the sum of all vals elements will be equal to:\n",
    "\n",
    "vals = [0, 1, 2]\n",
    "vals.insert(0, 1)\n",
    "del vals[1]\n",
    "sum(vals)\n",
    "\n",
    "# Correct"
   ]
  },
  {
   "cell_type": "code",
   "execution_count": 42,
   "metadata": {},
   "outputs": [
    {
     "name": "stdout",
     "output_type": "stream",
     "text": [
      "[2]\n"
     ]
    }
   ],
   "source": [
    "# What is th eoutput of the following snippet?\n",
    "\n",
    "my_list = [1, 2, 3, 4]\n",
    "print(my_list[-3:-2])\n",
    "\n",
    "# ... "
   ]
  },
  {
   "cell_type": "code",
   "execution_count": 43,
   "metadata": {},
   "outputs": [
    {
     "data": {
      "text/plain": [
       "[-1, 0, 1]"
      ]
     },
     "execution_count": 43,
     "metadata": {},
     "output_type": "execute_result"
    }
   ],
   "source": [
    "# How many elements does the my_list list contain?\n",
    "\n",
    "my_list = [i for i in range(-1, 2)]\n",
    "my_list\n",
    "\n",
    "# Correct"
   ]
  },
  {
   "cell_type": "code",
   "execution_count": null,
   "metadata": {},
   "outputs": [],
   "source": []
  }
 ],
 "metadata": {
  "kernelspec": {
   "display_name": "Python 3",
   "language": "python",
   "name": "python3"
  },
  "language_info": {
   "codemirror_mode": {
    "name": "ipython",
    "version": 3
   },
   "file_extension": ".py",
   "mimetype": "text/x-python",
   "name": "python",
   "nbconvert_exporter": "python",
   "pygments_lexer": "ipython3",
   "version": "3.8.5"
  }
 },
 "nbformat": 4,
 "nbformat_minor": 4
}
