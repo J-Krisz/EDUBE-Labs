{
 "cells": [
  {
   "cell_type": "code",
   "execution_count": 47,
   "metadata": {},
   "outputs": [
    {
     "data": {
      "text/plain": [
       "0"
      ]
     },
     "execution_count": 47,
     "metadata": {},
     "output_type": "execute_result"
    }
   ],
   "source": [
    "'''The result of the following division:'''\n",
    "\n",
    "1 // 2\n",
    "\n",
    "# Correct"
   ]
  },
  {
   "cell_type": "code",
   "execution_count": 49,
   "metadata": {},
   "outputs": [
    {
     "data": {
      "text/plain": [
       "3"
      ]
     },
     "execution_count": 49,
     "metadata": {},
     "output_type": "execute_result"
    }
   ],
   "source": [
    "'''Which of the following lines correctly invoke the function definition below? (Select two answers)'''\n",
    "\n",
    "def fun(a, b, c=0):\n",
    "    # Body of the function\n",
    "    return a + b + c\n",
    "\n",
    "'''My answers'''\n",
    "\n",
    "fun(b=1, a=4)\n",
    "fun(0, 1, 2)\n",
    "\n",
    "# Correct"
   ]
  },
  {
   "cell_type": "code",
   "execution_count": 50,
   "metadata": {},
   "outputs": [
    {
     "data": {
      "text/plain": [
       "True"
      ]
     },
     "execution_count": 50,
     "metadata": {},
     "output_type": "execute_result"
    }
   ],
   "source": [
    "'''What value will be assigned to the x variable?'''\n",
    "\n",
    "z = 0\n",
    "y = 10\n",
    "\n",
    "x = y < z and z > y or y > z and z < y\n",
    "x\n",
    "\n",
    "# Correct"
   ]
  },
  {
   "cell_type": "code",
   "execution_count": 51,
   "metadata": {},
   "outputs": [
    {
     "name": "stdout",
     "output_type": "stream",
     "text": [
      "21"
     ]
    },
    {
     "data": {
      "text/plain": [
       "'12'"
      ]
     },
     "execution_count": 51,
     "metadata": {},
     "output_type": "execute_result"
    }
   ],
   "source": [
    "'''What is the output of the following snippet?'''\n",
    "\n",
    "dct = {}\n",
    "dct['1'] = (1, 2)\n",
    "dct['2'] = (2, 1)\n",
    "\n",
    "for x in dct.keys():\n",
    "    print(dct[x][1], end='')\n",
    "    \n",
    "'''Incorrect'''\n",
    "\n",
    "# My Answer\n",
    "'''12'''"
   ]
  },
  {
   "cell_type": "code",
   "execution_count": 52,
   "metadata": {},
   "outputs": [
    {
     "ename": "AttributeError",
     "evalue": "'dict' object has no attribute 'vals'",
     "output_type": "error",
     "traceback": [
      "\u001b[0;31m---------------------------------------------------------------------------\u001b[0m",
      "\u001b[0;31mAttributeError\u001b[0m                            Traceback (most recent call last)",
      "\u001b[0;32m<ipython-input-52-952515551edd>\u001b[0m in \u001b[0;36m<module>\u001b[0;34m\u001b[0m\n\u001b[1;32m      2\u001b[0m \u001b[0;34m\u001b[0m\u001b[0m\n\u001b[1;32m      3\u001b[0m \u001b[0mdd\u001b[0m \u001b[0;34m=\u001b[0m \u001b[0;34m{\u001b[0m\u001b[0;34m\"1\"\u001b[0m\u001b[0;34m:\u001b[0m \u001b[0;34m\"0\"\u001b[0m\u001b[0;34m,\u001b[0m \u001b[0;34m\"0\"\u001b[0m\u001b[0;34m:\u001b[0m \u001b[0;34m\"1\"\u001b[0m\u001b[0;34m}\u001b[0m\u001b[0;34m\u001b[0m\u001b[0;34m\u001b[0m\u001b[0m\n\u001b[0;32m----> 4\u001b[0;31m \u001b[0;32mfor\u001b[0m \u001b[0mx\u001b[0m \u001b[0;32min\u001b[0m \u001b[0mdd\u001b[0m\u001b[0;34m.\u001b[0m\u001b[0mvals\u001b[0m\u001b[0;34m(\u001b[0m\u001b[0;34m)\u001b[0m\u001b[0;34m:\u001b[0m\u001b[0;34m\u001b[0m\u001b[0;34m\u001b[0m\u001b[0m\n\u001b[0m\u001b[1;32m      5\u001b[0m     \u001b[0mprint\u001b[0m\u001b[0;34m(\u001b[0m\u001b[0mx\u001b[0m\u001b[0;34m,\u001b[0m \u001b[0mend\u001b[0m\u001b[0;34m=\u001b[0m\u001b[0;34m''\u001b[0m\u001b[0;34m)\u001b[0m\u001b[0;34m\u001b[0m\u001b[0;34m\u001b[0m\u001b[0m\n\u001b[1;32m      6\u001b[0m \u001b[0;34m\u001b[0m\u001b[0m\n",
      "\u001b[0;31mAttributeError\u001b[0m: 'dict' object has no attribute 'vals'"
     ]
    }
   ],
   "source": [
    "'''What is the output of the following snippet?'''\n",
    "\n",
    "dd = {\"1\": \"0\", \"0\": \"1\"}\n",
    "for x in dd.vals():\n",
    "    print(x, end='')\n",
    "    \n",
    "# Correct\n",
    "'''The code is erroneus''' # Dict objecy has no .vals() method"
   ]
  },
  {
   "cell_type": "code",
   "execution_count": 53,
   "metadata": {},
   "outputs": [
    {
     "name": "stdin",
     "output_type": "stream",
     "text": [
      " 2\n",
      " 4\n"
     ]
    },
    {
     "name": "stdout",
     "output_type": "stream",
     "text": [
      "2.0\n"
     ]
    },
    {
     "data": {
      "text/plain": [
       "'2.0'"
      ]
     },
     "execution_count": 53,
     "metadata": {},
     "output_type": "execute_result"
    }
   ],
   "source": [
    "'''Whats is the output of the following piece of code if the user enters two lines containing 2 and 4 respectively?'''\n",
    "\n",
    "x = float(input())\n",
    "y = float(input())\n",
    "\n",
    "print(y ** (1 / x))\n",
    "\n",
    "# Correct\n",
    "'''2.0'''"
   ]
  },
  {
   "cell_type": "code",
   "execution_count": 54,
   "metadata": {},
   "outputs": [
    {
     "name": "stdout",
     "output_type": "stream",
     "text": [
      "2\n"
     ]
    }
   ],
   "source": [
    "'''What is the output of the following snippet?'''\n",
    "\n",
    "def fun(x):\n",
    "    if x % 2 == 0:\n",
    "        return 1\n",
    "    else:\n",
    "        return 2\n",
    "    \n",
    "print(fun(fun(2)))\n",
    "\n",
    "# Correct"
   ]
  },
  {
   "cell_type": "code",
   "execution_count": 55,
   "metadata": {},
   "outputs": [
    {
     "data": {
      "text/plain": [
       "'Incorrect'"
      ]
     },
     "execution_count": 55,
     "metadata": {},
     "output_type": "execute_result"
    }
   ],
   "source": [
    "'''Which of the following variable names are illegal and will cause the SyntaxError exception? (Select two answers)'''\n",
    "\n",
    "'''for'''    # Correct Answer\n",
    "'''in'''    # Correct Answer\n",
    "'''In'''    # My Answer\n",
    "'''print'''    # My Answer\n",
    "\n",
    "'''Incorrect'''"
   ]
  },
  {
   "cell_type": "code",
   "execution_count": 56,
   "metadata": {},
   "outputs": [
    {
     "name": "stdout",
     "output_type": "stream",
     "text": [
      "#\n",
      "#\n",
      "#\n"
     ]
    }
   ],
   "source": [
    "'''How many hashes will the following snippet send to the console?'''\n",
    "\n",
    "lst = [[x for x in range(3)] for y in range(3)]\n",
    "\n",
    "for r in range(3):\n",
    "    for c in range(3):\n",
    "        if lst[r][c] % 2 != 0:\n",
    "            print(\"#\")\n",
    "            \n",
    "# Correct"
   ]
  },
  {
   "cell_type": "code",
   "execution_count": 62,
   "metadata": {},
   "outputs": [
    {
     "name": "stdin",
     "output_type": "stream",
     "text": [
      " 3\n",
      " 2\n"
     ]
    },
    {
     "data": {
      "text/plain": [
       "0"
      ]
     },
     "execution_count": 62,
     "metadata": {},
     "output_type": "execute_result"
    }
   ],
   "source": [
    "'''What is the output of the following piece of code if the user enters two lines containing 3 and 2 respectively?'''\n",
    "\n",
    "x = int(input())\n",
    "y = int(input())\n",
    "x = x % y\n",
    "x = x % y\n",
    "y = y % x\n",
    " \n",
    "y\n",
    "\n",
    "'''Incorrect''' # duuh.. 3 % 2 = 1, 1 % 2 = 1, 2 % 1 = 0"
   ]
  },
  {
   "cell_type": "code",
   "execution_count": 65,
   "metadata": {},
   "outputs": [
    {
     "name": "stdout",
     "output_type": "stream",
     "text": [
      "1 1\n"
     ]
    },
    {
     "data": {
      "text/plain": [
       "'0 1'"
      ]
     },
     "execution_count": 65,
     "metadata": {},
     "output_type": "execute_result"
    }
   ],
   "source": [
    "'''What will be the output of the following snippet?'''\n",
    "\n",
    "a = 1\n",
    "b = 0\n",
    "a = a ^ b\n",
    "b = a ^ b\n",
    "c = a ^ b\n",
    "\n",
    "print(a, b)\n",
    "\n",
    "'''Incorrect'''\n",
    "\n",
    "# My Answer\n",
    "'''0 1'''    # Correct answer 1 1"
   ]
  },
  {
   "cell_type": "code",
   "execution_count": 66,
   "metadata": {},
   "outputs": [
    {
     "name": "stdout",
     "output_type": "stream",
     "text": [
      "4\n"
     ]
    }
   ],
   "source": [
    "'''What is the output of the following snippet?'''\n",
    "\n",
    "tup = (1, 2, 4, 8)\n",
    "tup = tup[-2:-1]\n",
    "tup = tup[-1]\n",
    "print(tup)\n",
    "\n",
    "# Correct"
   ]
  },
  {
   "cell_type": "code",
   "execution_count": 67,
   "metadata": {},
   "outputs": [
    {
     "ename": "NameError",
     "evalue": "name 'funtion_2' is not defined",
     "output_type": "error",
     "traceback": [
      "\u001b[0;31m---------------------------------------------------------------------------\u001b[0m",
      "\u001b[0;31mNameError\u001b[0m                                 Traceback (most recent call last)",
      "\u001b[0;32m<ipython-input-67-dbb4d00bffe7>\u001b[0m in \u001b[0;36m<module>\u001b[0;34m\u001b[0m\n\u001b[1;32m      7\u001b[0m     \u001b[0;32mreturn\u001b[0m \u001b[0mfuntion_1\u001b[0m\u001b[0;34m(\u001b[0m\u001b[0ma\u001b[0m\u001b[0;34m)\u001b[0m \u001b[0;34m*\u001b[0m \u001b[0mfuntion_1\u001b[0m\u001b[0;34m(\u001b[0m\u001b[0ma\u001b[0m\u001b[0;34m)\u001b[0m\u001b[0;34m\u001b[0m\u001b[0;34m\u001b[0m\u001b[0m\n\u001b[1;32m      8\u001b[0m \u001b[0;34m\u001b[0m\u001b[0m\n\u001b[0;32m----> 9\u001b[0;31m \u001b[0mprint\u001b[0m\u001b[0;34m(\u001b[0m\u001b[0mfuntion_2\u001b[0m\u001b[0;34m(\u001b[0m\u001b[0;36m2\u001b[0m\u001b[0;34m)\u001b[0m\u001b[0;34m)\u001b[0m\u001b[0;34m\u001b[0m\u001b[0;34m\u001b[0m\u001b[0m\n\u001b[0m",
      "\u001b[0;31mNameError\u001b[0m: name 'funtion_2' is not defined"
     ]
    }
   ],
   "source": [
    "'''The following snippet'''\n",
    "\n",
    "def function_1(a):\n",
    "    return None\n",
    "\n",
    "def function_2(a):\n",
    "    return funtion_1(a) * funtion_1(a)\n",
    "\n",
    "print(funtion_2(2))\n",
    "\n",
    "# Correct\n",
    "# will cause runtime error"
   ]
  },
  {
   "cell_type": "code",
   "execution_count": 70,
   "metadata": {},
   "outputs": [
    {
     "name": "stdout",
     "output_type": "stream",
     "text": [
      "0.2\n"
     ]
    }
   ],
   "source": [
    "'''Whta is the output of the following code?'''\n",
    "\n",
    "x = 1 // 5 + 1 / 5\n",
    "print(x)\n",
    "\n",
    "# Correct"
   ]
  },
  {
   "cell_type": "code",
   "execution_count": 71,
   "metadata": {},
   "outputs": [
    {
     "data": {
      "text/plain": [
       "'snippet will enter an infinite loop, printing one star per line'"
      ]
     },
     "execution_count": 71,
     "metadata": {},
     "output_type": "execute_result"
    }
   ],
   "source": [
    "'''How many stars * will the following snipped sen to the console?'''\n",
    "\n",
    "'''i = 0\n",
    "while i < i + 2:\n",
    "    i += 1\n",
    "    print(\"*\")\n",
    "else:\n",
    "    print(\"*\")\n",
    "    '''\n",
    "\n",
    "# Correct\n",
    "'''snippet will enter an infinite loop, printing one star per line''' # until KeyboardInterrupt"
   ]
  },
  {
   "cell_type": "code",
   "execution_count": 72,
   "metadata": {},
   "outputs": [
    {
     "name": "stdout",
     "output_type": "stream",
     "text": [
      "4\n"
     ]
    }
   ],
   "source": [
    "'''What is the output of the following snippet?'''\n",
    "\n",
    "def fun(inp=2, out=1):\n",
    "    return inp * out\n",
    "\n",
    "print(fun(out=2))\n",
    "\n",
    "# Correct"
   ]
  },
  {
   "cell_type": "code",
   "execution_count": 74,
   "metadata": {},
   "outputs": [
    {
     "data": {
      "text/plain": [
       "True"
      ]
     },
     "execution_count": 74,
     "metadata": {},
     "output_type": "execute_result"
    }
   ],
   "source": [
    "'''Which of the following sentences are True about the code?'''\n",
    "\n",
    "nums = [1, 2, 3]\n",
    "vals = nums\n",
    "\n",
    "'''vals is longer than nums'''\n",
    "'''nums has the same lenghts as vals'''    # Answer\n",
    "'''nums and vals are different names of the same list'''    # Answer\n",
    "'''nums and vals are different lists'''\n",
    "\n",
    "nums == vals\n",
    "\n",
    "# Correct"
   ]
  },
  {
   "cell_type": "code",
   "execution_count": 76,
   "metadata": {},
   "outputs": [
    {
     "name": "stdout",
     "output_type": "stream",
     "text": [
      "asepbsepc\n"
     ]
    }
   ],
   "source": [
    "'''What is the output of the following snippet?'''\n",
    "\n",
    "print(\"a\", \"b\", \"c\", sep=\"sep\")\n",
    "\n",
    "# Correct"
   ]
  },
  {
   "cell_type": "code",
   "execution_count": 77,
   "metadata": {},
   "outputs": [
    {
     "data": {
      "text/plain": [
       "'=/='"
      ]
     },
     "execution_count": 77,
     "metadata": {},
     "output_type": "execute_result"
    }
   ],
   "source": [
    "'''An operator able to check wether two values are not equal is coded as:'''\n",
    "\n",
    "'''not =='''\n",
    "'''!='''    # Answer\n",
    "'''<>'''\n",
    "'''=/='''\n",
    "\n",
    "# Correct"
   ]
  },
  {
   "cell_type": "code",
   "execution_count": 78,
   "metadata": {},
   "outputs": [
    {
     "name": "stdout",
     "output_type": "stream",
     "text": [
      "[0, 1, 4, 9]\n"
     ]
    }
   ],
   "source": [
    "'''What is the output of the following snippet?'''\n",
    "\n",
    "my_list = [x * x for x in range(5)]\n",
    "\n",
    "def fun(lst):\n",
    "    del lst[lst[2]]\n",
    "    return lst\n",
    "\n",
    "print(fun(my_list))\n",
    "\n",
    "'''Incorrect'''\n",
    "\n",
    "# My Answer\n",
    "'''[0, 1, 9, 16]'''"
   ]
  },
  {
   "cell_type": "code",
   "execution_count": 81,
   "metadata": {},
   "outputs": [
    {
     "data": {
      "text/plain": [
       "[]"
      ]
     },
     "execution_count": 81,
     "metadata": {},
     "output_type": "execute_result"
    }
   ],
   "source": [
    "'''How many elements does lst contain?'''\n",
    "\n",
    "lst = [i for i in range(-1, -2)]\n",
    "lst\n",
    "\n",
    "# Correct"
   ]
  },
  {
   "cell_type": "code",
   "execution_count": 84,
   "metadata": {},
   "outputs": [
    {
     "name": "stdout",
     "output_type": "stream",
     "text": [
      "0\n"
     ]
    },
    {
     "data": {
      "text/plain": [
       "'While x < y the else clause will not enter an infinite loop'"
      ]
     },
     "execution_count": 84,
     "metadata": {},
     "output_type": "execute_result"
    }
   ],
   "source": [
    "'''What is the output of the following snippet?'''\n",
    "\n",
    "def fun(x, y):\n",
    "    if x == y:\n",
    "        return x\n",
    "    else:\n",
    "        return fun(x, y-1)\n",
    "    \n",
    "print(fun(0, 3))\n",
    "\n",
    "# Correct \n",
    "'''While x < y the else clause will not enter an infinite loop'''"
   ]
  },
  {
   "cell_type": "code",
   "execution_count": 85,
   "metadata": {},
   "outputs": [
    {
     "ename": "SyntaxError",
     "evalue": "positional argument follows keyword argument (<ipython-input-85-f2466e6f0fa6>, line 6)",
     "output_type": "error",
     "traceback": [
      "\u001b[0;36m  File \u001b[0;32m\"<ipython-input-85-f2466e6f0fa6>\"\u001b[0;36m, line \u001b[0;32m6\u001b[0m\n\u001b[0;31m    print(b=2, 2)\u001b[0m\n\u001b[0m               ^\u001b[0m\n\u001b[0;31mSyntaxError\u001b[0m\u001b[0;31m:\u001b[0m positional argument follows keyword argument\n"
     ]
    }
   ],
   "source": [
    "'''The following snippet'''\n",
    "\n",
    "def func(a, b):\n",
    "    return b ** a\n",
    "\n",
    "print(b=2, 2)\n",
    "\n",
    "# Correct\n",
    "# Is erroneus"
   ]
  },
  {
   "cell_type": "code",
   "execution_count": 86,
   "metadata": {},
   "outputs": [
    {
     "data": {
      "text/plain": [
       "'the arguments name specified along with its value'"
      ]
     },
     "execution_count": 86,
     "metadata": {},
     "output_type": "execute_result"
    }
   ],
   "source": [
    "'''The meaning of a positional argument is determined by:'''\n",
    "\n",
    "'''its position within the argument  list'''\n",
    "'''its value'''\n",
    "'''its connection with existing varibles'''\n",
    "'''the arguments name specified along with its value'''\n",
    "\n",
    "# I guess the answer is correct"
   ]
  },
  {
   "cell_type": "code",
   "execution_count": 87,
   "metadata": {},
   "outputs": [
    {
     "name": "stdout",
     "output_type": "stream",
     "text": [
      "1 1 2\n"
     ]
    }
   ],
   "source": [
    "'''What is the output of the following piece of code?'''\n",
    "\n",
    "x = 1\n",
    "y = 2\n",
    "x, y, z = x, x, y\n",
    "z, y, z = x, y, z\n",
    "\n",
    "print(x, y, z)\n",
    "\n",
    "# Correct"
   ]
  },
  {
   "cell_type": "code",
   "execution_count": 89,
   "metadata": {},
   "outputs": [
    {
     "data": {
      "text/plain": [
       "True"
      ]
     },
     "execution_count": 89,
     "metadata": {},
     "output_type": "execute_result"
    }
   ],
   "source": [
    "'''Thake a look at the snippet and choose the True argument'''\n",
    "\n",
    "nums = [1, 2, 3]\n",
    "vals = nums\n",
    "del vals[:]\n",
    "\n",
    "nums == vals\n",
    "\n",
    "# Correct\n",
    "# nums and vals have the same lenght"
   ]
  },
  {
   "cell_type": "code",
   "execution_count": 91,
   "metadata": {},
   "outputs": [
    {
     "ename": "TypeError",
     "evalue": "'tuple' object does not support item assignment",
     "output_type": "error",
     "traceback": [
      "\u001b[0;31m---------------------------------------------------------------------------\u001b[0m",
      "\u001b[0;31mTypeError\u001b[0m                                 Traceback (most recent call last)",
      "\u001b[0;32m<ipython-input-91-91ead98ccebc>\u001b[0m in \u001b[0;36m<module>\u001b[0;34m\u001b[0m\n\u001b[1;32m      1\u001b[0m \u001b[0;34m'''Assuming my_tuple is a correctly created tuple, the fact that tuples are immutable means that the following instructions:'''\u001b[0m\u001b[0;34m\u001b[0m\u001b[0;34m\u001b[0m\u001b[0m\n\u001b[1;32m      2\u001b[0m \u001b[0mmy_tuple\u001b[0m \u001b[0;34m=\u001b[0m \u001b[0;34m(\u001b[0m\u001b[0;36m1\u001b[0m\u001b[0;34m,\u001b[0m \u001b[0;36m2\u001b[0m\u001b[0;34m,\u001b[0m \u001b[0;36m3\u001b[0m\u001b[0;34m,\u001b[0m \u001b[0;36m4\u001b[0m\u001b[0;34m)\u001b[0m\u001b[0;34m\u001b[0m\u001b[0;34m\u001b[0m\u001b[0m\n\u001b[0;32m----> 3\u001b[0;31m \u001b[0mmy_tuple\u001b[0m\u001b[0;34m[\u001b[0m\u001b[0;36m1\u001b[0m\u001b[0;34m]\u001b[0m \u001b[0;34m=\u001b[0m \u001b[0mmy_tuple\u001b[0m\u001b[0;34m[\u001b[0m\u001b[0;36m1\u001b[0m\u001b[0;34m]\u001b[0m \u001b[0;34m+\u001b[0m \u001b[0mmy_tuple\u001b[0m\u001b[0;34m[\u001b[0m\u001b[0;36m0\u001b[0m\u001b[0;34m]\u001b[0m\u001b[0;34m\u001b[0m\u001b[0;34m\u001b[0m\u001b[0m\n\u001b[0m\u001b[1;32m      4\u001b[0m \u001b[0;34m\u001b[0m\u001b[0m\n\u001b[1;32m      5\u001b[0m \u001b[0;31m# Correct\u001b[0m\u001b[0;34m\u001b[0m\u001b[0;34m\u001b[0m\u001b[0;34m\u001b[0m\u001b[0m\n",
      "\u001b[0;31mTypeError\u001b[0m: 'tuple' object does not support item assignment"
     ]
    }
   ],
   "source": [
    "'''Assuming my_tuple is a correctly created tuple, the fact that tuples are immutable means that the following instructions:'''\n",
    "my_tuple = (1, 2, 3, 4)\n",
    "my_tuple[1] = my_tuple[1] + my_tuple[0]\n",
    "\n",
    "# Correct\n",
    "# Is illegal"
   ]
  },
  {
   "cell_type": "code",
   "execution_count": 94,
   "metadata": {},
   "outputs": [
    {
     "name": "stdout",
     "output_type": "stream",
     "text": [
      "[1, 1, 1, 2]\n"
     ]
    }
   ],
   "source": [
    "'''What is the output of the following snippet?'''\n",
    "\n",
    "my_list = [1, 2]\n",
    "\n",
    "for v in range(2):\n",
    "    my_list.insert(-1, my_list[v])\n",
    "    \n",
    "print(my_list)\n",
    "\n",
    "# Correct\n",
    "# double check steps to fuly understand whats happening"
   ]
  },
  {
   "cell_type": "code",
   "execution_count": 95,
   "metadata": {},
   "outputs": [
    {
     "name": "stdin",
     "output_type": "stream",
     "text": [
      " 3\n",
      " 6\n"
     ]
    },
    {
     "name": "stdout",
     "output_type": "stream",
     "text": [
      "63\n"
     ]
    },
    {
     "data": {
      "text/plain": [
       "'36'"
      ]
     },
     "execution_count": 95,
     "metadata": {},
     "output_type": "execute_result"
    }
   ],
   "source": [
    "'''What is the output of the following piece of code if the user enters two lines containing 3 and 6 respectively?'''\n",
    "\n",
    "y = input()\n",
    "x = input()\n",
    "print(x + y)\n",
    "\n",
    "'''Incorrect'''\n",
    "# didnt pay attention to the order of the input my answer was \n",
    "'36'"
   ]
  },
  {
   "cell_type": "code",
   "execution_count": 96,
   "metadata": {},
   "outputs": [
    {
     "name": "stdout",
     "output_type": "stream",
     "text": [
      "one\n"
     ]
    }
   ],
   "source": [
    "'''What is the output of the following snippet?'''\n",
    "\n",
    "dct = {'one': 'two', 'three': 'one', 'two': 'three'}\n",
    "v = dct['three']\n",
    "\n",
    "for k in range(len(dct)):\n",
    "    v = dct[v]\n",
    "    \n",
    "print(v)\n",
    "\n",
    "'''Incorrect'''\n",
    "\n",
    "# My Answer\n",
    "'''three''' # apparently the corresponding value of the key gets printed. Have another look at this"
   ]
  },
  {
   "cell_type": "code",
   "execution_count": null,
   "metadata": {},
   "outputs": [],
   "source": []
  }
 ],
 "metadata": {
  "kernelspec": {
   "display_name": "Python 3",
   "language": "python",
   "name": "python3"
  },
  "language_info": {
   "codemirror_mode": {
    "name": "ipython",
    "version": 3
   },
   "file_extension": ".py",
   "mimetype": "text/x-python",
   "name": "python",
   "nbconvert_exporter": "python",
   "pygments_lexer": "ipython3",
   "version": "3.8.5"
  }
 },
 "nbformat": 4,
 "nbformat_minor": 4
}
